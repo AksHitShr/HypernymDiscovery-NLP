{
 "cells": [
  {
   "cell_type": "code",
   "execution_count": 103,
   "metadata": {},
   "outputs": [],
   "source": [
    "import numpy as np\n",
    "import codecs\n",
    "\n",
    "def get_embeddings():\n",
    "    with codecs.open(\"/home/embeddings\", \"r\", \"utf-8\") as f:\n",
    "            elems = f.readline().strip().split()\n",
    "            if len(elems) == 2:\n",
    "                header = True\n",
    "                dim = int(elems[1])\n",
    "            else:\n",
    "                header = False\n",
    "                dim = len(elems)-1\n",
    "    words = []\n",
    "    word2vec = {}\n",
    "    with codecs.open(\"/home/embeddings\", \"r\", \"utf-8\") as f:\n",
    "        line_count = 0\n",
    "        if header:\n",
    "            f.readline()\n",
    "            line_count = 1\n",
    "        for line in f:\n",
    "            line_count += 1\n",
    "            elems = line.strip().split()\n",
    "            if len(elems) == dim + 1:\n",
    "                word = elems[0]\n",
    "                try:\n",
    "                    vec = np.asarray(elems[1:], dtype=np.float32)\n",
    "                    words.append(word)\n",
    "                    word2vec[word] = vec\n",
    "                except ValueError as e:\n",
    "                    print(\"ValueError: Skipping line {}\".format(line_count))\n",
    "            else:\n",
    "                msg = \"Error: Skipping line {}. \".format(line_count)\n",
    "                msg += \"Expected {} elements, found {}.\".format(dim+1, len(elems))\n",
    "        print(line_count)\n",
    "                \n",
    "    return words, word2vec"
   ]
  },
  {
   "cell_type": "code",
   "execution_count": 104,
   "metadata": {},
   "outputs": [
    {
     "name": "stdout",
     "output_type": "stream",
     "text": [
      "209063\n"
     ]
    }
   ],
   "source": [
    "words, word2vec = get_embeddings()"
   ]
  },
  {
   "cell_type": "code",
   "execution_count": 105,
   "metadata": {},
   "outputs": [
    {
     "name": "stdout",
     "output_type": "stream",
     "text": [
      "209062\n"
     ]
    }
   ],
   "source": [
    "print(len(words))"
   ]
  },
  {
   "cell_type": "code",
   "execution_count": 106,
   "metadata": {},
   "outputs": [],
   "source": [
    "embeddings = []\n",
    "for embed in word2vec.values():\n",
    "    embeddings.append(list(embed))\n",
    "embeddings = np.array(embeddings)"
   ]
  },
  {
   "cell_type": "code",
   "execution_count": 107,
   "metadata": {},
   "outputs": [],
   "source": [
    "word_mapping = {}\n",
    "for i in range(len(words)):\n",
    "    word_mapping[words[i]] = i"
   ]
  },
  {
   "cell_type": "code",
   "execution_count": 109,
   "metadata": {},
   "outputs": [],
   "source": [
    "def subtask_file_mapping(subtask):\n",
    "    mapping ={\"1A\": \"1A.english\", \"2A\": \"2A.medical\", \"2B\": \"2B.music\", \"1B\": \"1B.italian\", \"1C\": \"1C.spanish\"}\n",
    "    return mapping[subtask]"
   ]
  },
  {
   "cell_type": "code",
   "execution_count": 110,
   "metadata": {},
   "outputs": [
    {
     "name": "stdout",
     "output_type": "stream",
     "text": [
      "1500\n",
      "1500\n"
     ]
    }
   ],
   "source": [
    "def load_data(subtask, datadir, split):\n",
    "    if(split == \"train\"):\n",
    "        split = \"training\"\n",
    "    data = []\n",
    "    gold = {}\n",
    "    data_path = f'{datadir}/{split}/data/{subtask_file_mapping(subtask)}.{split}.data.txt'\n",
    "    gold_path = f'{datadir}/{split}/gold/{subtask_file_mapping(subtask)}.{split}.gold.txt'\n",
    "    with open(data_path, 'r') as f:\n",
    "        lines = f.read().split('\\n')\n",
    "        print(len(lines))\n",
    "        for line in lines:\n",
    "            word = line.split('\\t')[0].lower()\n",
    "            word = word.replace(\" \", \"_\")\n",
    "            data.append(word)\n",
    "    with open(gold_path, 'r') as f:\n",
    "        lines = f.read().split('\\n')\n",
    "        for i,line in enumerate(lines):\n",
    "            gold_data = []\n",
    "            golds = line.lower().split('\\t') \n",
    "            for gold_word in golds:\n",
    "                gold_data.append(gold_word.replace(\" \", \"_\"))\n",
    "            gold[data[i]] = gold_data\n",
    "            \n",
    "    return data, gold\n",
    "test_data, test_gold = load_data(\"1A\", \"SemEval2018-Task9\", \"test\")\n",
    "train_data, train_gold  = load_data(\"1A\", \"SemEval2018-Task9\", \"train\")\n"
   ]
  },
  {
   "cell_type": "code",
   "execution_count": 113,
   "metadata": {},
   "outputs": [
    {
     "name": "stdout",
     "output_type": "stream",
     "text": [
      "[14 32 50]\n",
      "[2.14285714 1.09646083 0.80590603]\n"
     ]
    }
   ],
   "source": [
    "array1 = np.array([1,2,3])\n",
    "array2 = np.array([[1,2,3], [4,5,6], [7,8,9]])\n",
    "print(np.dot(array2, array1))\n",
    "print(np.dot(array1, array2) /(np.linalg.norm(array2, axis = 1) * np.linalg.norm(array1)))"
   ]
  },
  {
   "cell_type": "code",
   "execution_count": 114,
   "metadata": {},
   "outputs": [],
   "source": [
    "def make_embedding_matrix(word2vec, words, seed=0):\n",
    "    np.random.seed(seed)\n",
    "    dim = 200\n",
    "    dtype = np.float32\n",
    "    matrix = np.zeros((len(words), dim), dtype=dtype)\n",
    "    count = 0\n",
    "    for (i,word) in enumerate(words):\n",
    "        if word in word2vec.keys():\n",
    "            matrix[i] = word2vec[word]\n",
    "        else:\n",
    "            count += 1\n",
    "            matrix[i] = np.random.uniform(low=-0.5, high=0.5) / dim\n",
    "    return matrix\n"
   ]
  },
  {
   "cell_type": "code",
   "execution_count": 115,
   "metadata": {},
   "outputs": [],
   "source": [
    "import numpy as np\n",
    "\n",
    "def cosine_similarity(vector1, vector2):\n",
    "    dot_product = np.dot(vector2, vector1)\n",
    "    magnitude1 = np.linalg.norm(vector1)\n",
    "    magnitude2 = np.linalg.norm(vector2, axis = 1)\n",
    "    similarity = dot_product / (magnitude1 * magnitude2)\n",
    "    return similarity"
   ]
  },
  {
   "cell_type": "code",
   "execution_count": 116,
   "metadata": {},
   "outputs": [],
   "source": [
    "def get_top_k(test_data,train_data, k=20):\n",
    "    test_embeddings = make_embedding_matrix(word2vec, test_data)\n",
    "    train_embeddings = make_embedding_matrix(word2vec, train_data)\n",
    "    top_k = []\n",
    "    for data in test_embeddings:\n",
    "        similarities = cosine_similarity(data, train_embeddings)\n",
    "        \n",
    "        top_indices = np.argsort(similarities)[-k:]\n",
    "        \n",
    "        top_words  =list(np.array(train_data)[top_indices])\n",
    "        top_k.append(top_words)\n",
    "    return top_k\n",
    "top_k = get_top_k(test_data, train_data)\n",
    "    "
   ]
  },
  {
   "cell_type": "code",
   "execution_count": 117,
   "metadata": {},
   "outputs": [],
   "source": [
    "def get_hypernyms(test_data, top_hyponyms, train_gold, words, n=15):\n",
    "    test_embeddings = make_embedding_matrix(word2vec, test_data)\n",
    "    top_n = []\n",
    "    array_words = np.array(words)\n",
    "    for i,data in enumerate(test_embeddings):\n",
    "        candidates = set()\n",
    "        for hypo in top_hyponyms[i]:\n",
    "            for candidate in train_gold[hypo]:\n",
    "                candidates.add(candidate)\n",
    "        superset_candidates = candidates.copy()\n",
    "        \n",
    "        candidates = list(candidates)\n",
    "        candidate_embeddings = make_embedding_matrix(word2vec, candidates)\n",
    "        \n",
    "        similarities = cosine_similarity(data, candidate_embeddings)\n",
    "        top_indices = np.argsort(similarities)[-n:]\n",
    "        top_words  =list(np.array(candidates)[top_indices][::-1])\n",
    "        top_n.append(top_words)\n",
    "    return top_n\n",
    "hypernyms = get_hypernyms(test_data, top_k, train_gold, words)"
   ]
  },
  {
   "cell_type": "code",
   "execution_count": 120,
   "metadata": {},
   "outputs": [
    {
     "name": "stdout",
     "output_type": "stream",
     "text": [
      "List of lists has been written to the file successfully.\n"
     ]
    }
   ],
   "source": [
    "try:\n",
    "    with open('NN_predicted_processed_clustered.txt', 'w') as file:\n",
    "        for inner_list in hypernyms:\n",
    "            line = '\\t'.join(map(str, inner_list))\n",
    "            file.write(line + '\\n')\n",
    "    print(\"List of lists has been written to the file successfully.\")\n",
    "except IOError:\n",
    "    print(f\"Error writing to the file '{file_path}'.\")"
   ]
  },
  {
   "cell_type": "code",
   "execution_count": 122,
   "metadata": {},
   "outputs": [
    {
     "name": "stdout",
     "output_type": "stream",
     "text": [
      "List of lists has been written to the file successfully.\n"
     ]
    }
   ],
   "source": [
    "try:\n",
    "    # Open the file in write mode\n",
    "    with open('test_gold_processed.txt', 'w') as file:\n",
    "        # Iterate over each list in the list of lists\n",
    "        for inner_list in list(test_gold.values()):\n",
    "            # Convert the inner list to a string with elements separated by commas\n",
    "            line = '\\t'.join(map(str, inner_list))\n",
    "            # Write the line to the file\n",
    "            file.write(line + '\\n')\n",
    "    print(\"List of lists has been written to the file successfully.\")\n",
    "except IOError:\n",
    "    print(f\"Error writing to the file '{file_path}'.\")"
   ]
  },
  {
   "cell_type": "code",
   "execution_count": 170,
   "metadata": {},
   "outputs": [
    {
     "data": {
      "image/png": "[encoded data removed]",
      "text/plain": [
       "<Figure size 640x480 with 1 Axes>"
      ]
     },
     "metadata": {},
     "output_type": "display_data"
    }
   ],
   "source": [
    "import matplotlib.pyplot as plt\n",
    "%matplotlib inline\n",
    "plt.scatter(embeddings_2d[10000, 0], embeddings_2d[10000, 1])\n",
    "plt.text(embeddings_2d[10000, 0], embeddings_2d[10000, 1], \"respiratory_disease\", fontsize=10, ha='right', va='bottom')\n",
    "plt.scatter(embeddings_2d[10001, 0], embeddings_2d[10001, 1])\n",
    "plt.text(embeddings_2d[10001, 0], embeddings_2d[10001, 1], \"meningitis\", fontsize=10, ha='right', va='bottom')\n",
    "plt.scatter(embeddings_2d[2424, 0], embeddings_2d[2424, 1])\n",
    "plt.text(embeddings_2d[2424, 0], embeddings_2d[2424, 1], \"illness\", fontsize=10, ha='right', va='bottom')\n",
    "plt.title('t-SNE Visualization')\n",
    "plt.xlabel('t-SNE Dimension 1')\n",
    "plt.ylabel('t-SNE Dimension 2')\n",
    "plt.savefig('2.png')\n",
    "plt.show()\n"
   ]
  }
 ],
 "metadata": {
  "kernelspec": {
   "display_name": "pytorch2",
   "language": "python",
   "name": "python3"
  },
  "language_info": {
   "codemirror_mode": {
    "name": "ipython",
    "version": 3
   },
   "file_extension": ".py",
   "mimetype": "text/x-python",
   "name": "python",
   "nbconvert_exporter": "python",
   "pygments_lexer": "ipython3",
   "version": "3.10.13"
  },
  "orig_nbformat": 4
 },
 "nbformat": 4,
 "nbformat_minor": 2
}
